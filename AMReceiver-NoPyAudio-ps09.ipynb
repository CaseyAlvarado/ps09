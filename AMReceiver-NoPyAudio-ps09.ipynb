{
 "metadata": {
  "name": "",
  "signature": "sha256:b16e4a08e522e62635124ef3cd8edb34db961e8bb9a1c02496091717e21b9631"
 },
 "nbformat": 3,
 "nbformat_minor": 0,
 "worksheets": [
  {
   "cells": [
    {
     "cell_type": "markdown",
     "metadata": {},
     "source": [
      "In this exercise, you will decode two amplitude-modulated signals. The exercise illustrates the concept of frequency-division multiple access, whereby different users use different frequencies to communicate information. One simple example is in AM radio, where different stations operate in different frequency bands.\n",
      "\n",
      "The following cell contains some helper functions that you may find useful. \n",
      "Please install the pyaudio module before running this code\n"
     ]
    },
    {
     "cell_type": "code",
     "collapsed": false,
     "input": [
      "from scipy.io import wavfile\n",
      "import numpy as np\n",
      "import matplotlib.pyplot as mplib\n",
      "import thinkdsp\n",
      "\n",
      "# this function is used to help convert numpy array data into a format\n",
      "# suitable for writing into a wave file\n",
      "def convert_to_int16(sig):\n",
      "    # convert into int16  to write as wave\n",
      "    sig = (sig/np.max(sig))*(2**14)\n",
      "    sig = sig.astype('int16')\n",
      "    return sig\n",
      "\n"
     ],
     "language": "python",
     "metadata": {},
     "outputs": [],
     "prompt_number": 2
    },
    {
     "cell_type": "markdown",
     "metadata": {},
     "source": [
      "In the following cell, a signal from a wavefile is loaded into sig.\n",
      "The wavefile contains an audio signal which is made up of the sum of \n",
      "2 audio segments amplitude modulated at 8kHz and 3kHz each.\n",
      "The base-band signals have a bandwidth of ~2kHz.\n",
      "\n",
      "The audio segments can be played by first writing to wav files and then playing them using the thinkdsp routines for audio playback.\n",
      "\n",
      "Your job is to demodulate the two audio waveforms that are encoded in sig and play them. \n",
      "You should hear an electric guitar and a violin "
     ]
    },
    {
     "cell_type": "code",
     "collapsed": false,
     "input": [
      "# these are the two frequencies (in Hz) of the modulated waveforms\n",
      "f1 = 8000\n",
      "f2 = 3000\n",
      "\n",
      "# read the wave file into sig\n",
      "fs, sig = wavfile.read('TwoAM8k3k.wav')\n",
      "\n",
      "#play_samples(convert_to_int16(sig), rate=fs, chunk_size = 8000)\n",
      "\n",
      "# create a vector of the sampling times\n",
      "ts = np.arange(0, float(len(sig))/float(fs), 1.0/fs)\n",
      "# create a vector of frequencies\n",
      "freqs = np.linspace(-np.pi*fs, np.pi*fs*(float(len(sig))-1)/float(len(sig)), len(sig))\n",
      "sig_fft = np.fft.fftshift(np.abs(np.fft.fft(sig)))\n",
      "# plot the time domain waveform to visualize\n",
      "mplib.subplot(411)\n",
      "mplib.plot(ts, sig_fft)\n",
      "\n",
      "# plot the waveform in the frequency domain\n",
      "mplib.subplot(412)\n",
      "mplib.plot(freqs, sig_fft)\n",
      "mplib.xlabel('Frequency (radians/second)')\n",
      "mplib.show()\n",
      "\n",
      "\n",
      "#######################################################################\n",
      "##  You should enter your code here to demodulate the\n",
      "##  signal at frequencies f1 and f2\n",
      "##  you should call the demodulated signals sig1_demod and sig2_demod\n",
      "##\n",
      "##\n",
      "##  Helpful Hints:\n",
      "##  numpy provides a cosine function: np.cos\n",
      "##  numpy provides a sinc function: np.sinc\n",
      "##  refer to ps07 for how to implement a low-pass filter\n",
      "##\n",
      "#######################################################################\n",
      "\n",
      "\n",
      "#sig type is numpy array\n",
      "#sweeping phi from -pi to pi and checking for the strongest signal. \n",
      "phi = np.linspace(-np.pi, np.pi, 16)\n",
      "mn = [] \n",
      "A = 75000\n",
      "mt = A\n",
      "for t in phi: \n",
      "    mn.append(np.cos(t)*(A/2)*mt)\n",
      "phi = mn.index(max(mn))\n",
      "Wc = 2000\n",
      "sig_cos = sig_fft*np.cos(2*np.pi*f1*ts)\n",
      "mplib.subplot(413)\n",
      "mplib.plot(freqs, sig_cos)\n",
      "\n",
      "\n",
      "# write the wave file for the first signal which is assumed\n",
      "# to  be in stored in the numpy array sig1_demod\n",
      "\n",
      "wavfile.write('Demod1.wav', fs,convert_to_int16(sig1_demod))\n",
      "\n",
      "\n",
      "# write the wave file for the first signal which is assumed\n",
      "# to  be in stored in the numpy array sig2_demod\n",
      "\n",
      "wavfile.write('Demod2.wav', fs,convert_to_int16(sig2_demod))\n",
      "\n",
      "\n",
      "\n"
     ],
     "language": "python",
     "metadata": {},
     "outputs": [
      {
       "metadata": {},
       "output_type": "display_data",
       "png": "[encoded data removed]",
       "text": [
        "<matplotlib.figure.Figure at 0x7f5c16bfbad0>"
       ]
      },
      {
       "ename": "NameError",
       "evalue": "name 'sig1_demod' is not defined",
       "output_type": "pyerr",
       "traceback": [
        "\u001b[1;31m---------------------------------------------------------------------------\u001b[0m\n\u001b[1;31mNameError\u001b[0m                                 Traceback (most recent call last)",
        "\u001b[1;32m<ipython-input-12-fdf5ce5a1394>\u001b[0m in \u001b[0;36m<module>\u001b[1;34m()\u001b[0m\n\u001b[0;32m     56\u001b[0m \u001b[1;31m# to  be in stored in the numpy array sig1_demod\u001b[0m\u001b[1;33m\u001b[0m\u001b[1;33m\u001b[0m\u001b[0m\n\u001b[0;32m     57\u001b[0m \u001b[1;33m\u001b[0m\u001b[0m\n\u001b[1;32m---> 58\u001b[1;33m \u001b[0mwavfile\u001b[0m\u001b[1;33m.\u001b[0m\u001b[0mwrite\u001b[0m\u001b[1;33m(\u001b[0m\u001b[1;34m'Demod1.wav'\u001b[0m\u001b[1;33m,\u001b[0m \u001b[0mfs\u001b[0m\u001b[1;33m,\u001b[0m\u001b[0mconvert_to_int16\u001b[0m\u001b[1;33m(\u001b[0m\u001b[0msig1_demod\u001b[0m\u001b[1;33m)\u001b[0m\u001b[1;33m)\u001b[0m\u001b[1;33m\u001b[0m\u001b[0m\n\u001b[0m\u001b[0;32m     59\u001b[0m \u001b[1;33m\u001b[0m\u001b[0m\n\u001b[0;32m     60\u001b[0m \u001b[1;33m\u001b[0m\u001b[0m\n",
        "\u001b[1;31mNameError\u001b[0m: name 'sig1_demod' is not defined"
       ]
      },
      {
       "metadata": {},
       "output_type": "display_data",
       "png": "[encoded data removed]",
       "text": [
        "<matplotlib.figure.Figure at 0x7f5c171bda10>"
       ]
      }
     ],
     "prompt_number": 12
    },
    {
     "cell_type": "code",
     "collapsed": false,
     "input": [
      "# use thinkdsp tools to play the first wave file\n",
      "wave = thinkdsp.read_wave('Demod1.wav')\n",
      "wave.normalize()\n",
      "wave.make_audio()\n",
      "\n"
     ],
     "language": "python",
     "metadata": {},
     "outputs": []
    },
    {
     "cell_type": "code",
     "collapsed": false,
     "input": [
      "# use thinkdsp tools to play the second wave file\n",
      "wave = thinkdsp.read_wave('Demod2.wav')\n",
      "wave.normalize()\n",
      "wave.make_audio()"
     ],
     "language": "python",
     "metadata": {},
     "outputs": []
    }
   ],
   "metadata": {}
  }
 ]
}